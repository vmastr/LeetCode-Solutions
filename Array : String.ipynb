{
 "cells": [
  {
   "cell_type": "markdown",
   "metadata": {},
   "source": [
    "### **88. Merged Sorted Array**\n",
    "\n",
    "You are given two integer arrays ```nums1``` and ```nums2```, sorted in **non-decreasing order**, and two integers ```m``` and ```n```, representing the number of elements in ```nums1``` and ```nums2``` respectively. \n",
    "\n",
    "**Merge** ```nums1``` and ```nums2``` into a single array sorted in **non-decreasing order**. \n",
    "\n",
    "The final sorted array should not be returned by the function, but instead be *stored inside the array* ```nums1```. To accomodate this, ```nums1``` has a length ```m+n```, where the first ```m``` elements denote the elements that should be merged, and the last ```n``` elements are set to ```0``` and should be ignored. ```nums2``` has a length ```n```. \n",
    "\n",
    "\n",
    "\n",
    "**Example 1:** \n",
    "\n",
    "Input: ```nums1 = [1, 2, 3, 0, 0, 0], m = 3, nums2 = [2, 5, 6], n = 3```.    \n",
    "Output: ```[1, 2, 2, 3, 5, 6]```.  \n",
    "Explanation: ```The arrays we are merging here are [1, 2, 3] and [2, 5, 6]. The result of the merge is [1, 2, 2, 3, 5, 6] \n",
    "with the underlined elements coming from nums1```. \n",
    "\n",
    "\n",
    "**Example 2:** \n",
    "Input: ```nums1 = [1], m = 1, nums2 = [], n = 0```.    \n",
    "Output: ```[1]```.  \n",
    "Explanation: ```The arrays we are merging here are [1] and []. The result of the merge is [1]```. \n",
    "\n",
    "\n",
    "**Example 3:** \n",
    "Input: ```nums1 = [0], m = 0, nums2 = [1], n = 1```.    \n",
    "Output: ```[1]```.  \n",
    "Explanation: ```The arrays we are merging here are [] and [1]. The result of the merge is [1]. Note that because m = 0, there are no elements in nums1. The 0 is only there to ensure the merge result can fit in nums1.```. \n",
    "\n",
    "\n",
    "**Constraints**\n",
    "\n",
    "* ```nums1.length == m+n```\n",
    "* ```nums2.length == n```\n",
    "* ```0 <= m,  n <= 200```\n",
    "* ```1<= m + n <== 200```\n",
    "* ```-10^9 <= nums1[i], nums2[j] <= 10^9```"
   ]
  },
  {
   "cell_type": "code",
   "execution_count": null,
   "metadata": {},
   "outputs": [],
   "source": [
    "class Solution(object):\n",
    "    def merge(self, nums1, m, nums2, n):\n",
    "        \"\"\"\n",
    "        :type nums1: List[int]\n",
    "        :type m: int\n",
    "        :type nums2: List[int]\n",
    "        :type n: int\n",
    "        :rtype: None Do not return anything, modify nums1 in-place instead.\n",
    "        \"\"\""
   ]
  },
  {
   "cell_type": "code",
   "execution_count": 4,
   "metadata": {},
   "outputs": [
    {
     "data": {
      "text/plain": [
       "2"
      ]
     },
     "execution_count": 4,
     "metadata": {},
     "output_type": "execute_result"
    }
   ],
   "source": [
    "L = [1, 2, 3, 0, 0 , 0]\n",
    "next(x[0] for x in enumerate(L) if x[1]>2)"
   ]
  },
  {
   "cell_type": "code",
   "execution_count": 6,
   "metadata": {},
   "outputs": [
    {
     "name": "stdout",
     "output_type": "stream",
     "text": [
      "0\n",
      "0\n",
      "0\n",
      "3\n",
      "2\n",
      "1\n"
     ]
    }
   ],
   "source": [
    "for i in L[::-1]:\n",
    "    print(i)"
   ]
  },
  {
   "cell_type": "code",
   "execution_count": 13,
   "metadata": {},
   "outputs": [],
   "source": [
    "L.insert(1, 4)"
   ]
  },
  {
   "cell_type": "code",
   "execution_count": 119,
   "metadata": {},
   "outputs": [],
   "source": [
    "def merge(nums1, m, nums2, n):\n",
    "    if n == 0:\n",
    "        nums1 = nums2\n",
    "    else: \n",
    "        ind_record = []\n",
    "        print(nums1[:m])\n",
    "        for (i, num) in enumerate(nums1[:m]): \n",
    "            print(i, num, nums2[0])\n",
    "            if len(nums2) > 0 and nums2[0] < num:\n",
    "                print(num, nums2[0])\n",
    "                ind_record.append([nums2[0], i])\n",
    "                nums2.pop(0)\n",
    "            else:\n",
    "                pass\n",
    "        print(ind_record)\n"
   ]
  },
  {
   "cell_type": "code",
   "execution_count": 124,
   "metadata": {},
   "outputs": [
    {
     "name": "stdout",
     "output_type": "stream",
     "text": [
      "[1, 2, 3]\n",
      "0 1 2\n",
      "1 2 2\n",
      "2 3 2\n",
      "3 2\n",
      "[[2, 2]]\n"
     ]
    }
   ],
   "source": [
    "L = [1, 2, 3, 0, 0, 0]\n",
    "merge(L, 3, [2,5,6], 3)\n"
   ]
  },
  {
   "cell_type": "code",
   "execution_count": 125,
   "metadata": {},
   "outputs": [
    {
     "ename": "TypeError",
     "evalue": "list.append() takes exactly one argument (2 given)",
     "output_type": "error",
     "traceback": [
      "\u001b[0;31m---------------------------------------------------------------------------\u001b[0m",
      "\u001b[0;31mTypeError\u001b[0m                                 Traceback (most recent call last)",
      "Cell \u001b[0;32mIn[125], line 1\u001b[0m\n\u001b[0;32m----> 1\u001b[0m L\u001b[38;5;241m.\u001b[39mappend(\u001b[38;5;241m1\u001b[39m,\u001b[38;5;241m1\u001b[39m)\n",
      "\u001b[0;31mTypeError\u001b[0m: list.append() takes exactly one argument (2 given)"
     ]
    }
   ],
   "source": [
    "L.append(1,1"
   ]
  },
  {
   "cell_type": "code",
   "execution_count": 123,
   "metadata": {},
   "outputs": [
    {
     "data": {
      "text/plain": [
       "[1, 2, 3, 0, 0, 0, [1, 1]]"
      ]
     },
     "execution_count": 123,
     "metadata": {},
     "output_type": "execute_result"
    }
   ],
   "source": []
  },
  {
   "cell_type": "code",
   "execution_count": null,
   "metadata": {},
   "outputs": [],
   "source": []
  }
 ],
 "metadata": {
  "kernelspec": {
   "display_name": "base",
   "language": "python",
   "name": "python3"
  },
  "language_info": {
   "codemirror_mode": {
    "name": "ipython",
    "version": 3
   },
   "file_extension": ".py",
   "mimetype": "text/x-python",
   "name": "python",
   "nbconvert_exporter": "python",
   "pygments_lexer": "ipython3",
   "version": "3.11.5"
  }
 },
 "nbformat": 4,
 "nbformat_minor": 2
}
