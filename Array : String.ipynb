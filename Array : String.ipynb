{
 "cells": [
  {
   "cell_type": "markdown",
   "metadata": {},
   "source": [
    "### **88. Merged Sorted Array**\n",
    "\n",
    "You are given two integer arrays ```nums1``` and ```nums2```, sorted in **non-decreasing order**, and two integers ```m``` and ```n```, representing the number of elements in ```nums1``` and ```nums2``` respectively. \n",
    "\n",
    "**Merge** ```nums1``` and ```nums2``` into a single array sorted in **non-decreasing order**. \n",
    "\n",
    "The final sorted array should not be returned by the function, but instead be *stored inside the array* ```nums1```. To accomodate this, ```nums1``` has a length ```m+n```, where the first ```m``` elements denote the elements that should be merged, and the last ```n``` elements are set to ```0``` and should be ignored. ```nums2``` has a length ```n```. \n",
    "\n",
    "\n",
    "\n",
    "**Example 1:** \n",
    "\n",
    "Input: ```nums1 = [1, 2, 3, 0, 0, 0], m = 3, nums2 = [2, 5, 6], n = 3```.    \n",
    "Output: ```[1, 2, 2, 3, 5, 6]```.  \n",
    "Explanation: ```The arrays we are merging here are [1, 2, 3] and [2, 5, 6]. The result of the merge is [1, 2, 2, 3, 5, 6] \n",
    "with the underlined elements coming from nums1```. \n",
    "\n",
    "\n",
    "**Example 2:** \n",
    "Input: ```nums1 = [1], m = 1, nums2 = [], n = 0```.    \n",
    "Output: ```[1]```.  \n",
    "Explanation: ```The arrays we are merging here are [1] and []. The result of the merge is [1]```. \n",
    "\n",
    "\n",
    "**Example 3:** \n",
    "Input: ```nums1 = [0], m = 0, nums2 = [1], n = 1```.    \n",
    "Output: ```[1]```.  \n",
    "Explanation: ```The arrays we are merging here are [] and [1]. The result of the merge is [1]. Note that because m = 0, there are no elements in nums1. The 0 is only there to ensure the merge result can fit in nums1.```. \n",
    "\n",
    "\n",
    "**Constraints**\n",
    "\n",
    "* ```nums1.length == m+n```\n",
    "* ```nums2.length == n```\n",
    "* ```0 <= m,  n <= 200```\n",
    "* ```1<= m + n <== 200```\n",
    "* ```-10^9 <= nums1[i], nums2[j] <= 10^9```"
   ]
  },
  {
   "cell_type": "markdown",
   "metadata": {},
   "source": [
    "#### **Solution**"
   ]
  },
  {
   "cell_type": "code",
   "execution_count": 166,
   "metadata": {},
   "outputs": [],
   "source": [
    "def merge(nums1, m, nums2, n):\n",
    "    if n == 0:\n",
    "        nums1 = nums2\n",
    "    else: \n",
    "        ind_record = []\n",
    "        for (i, num) in enumerate(nums1[:m]): \n",
    "            while len(nums2) > 0 and nums2[0] < num:\n",
    "                ind_record.append([nums2[0], i])\n",
    "                nums2.pop(0)\n",
    "        nums1 = nums1[:m]\n",
    "        for num in nums2: nums1.append(num)\n",
    "        for x in ind_record[::-1]: nums1.insert(x[1], x[0])\n",
    "        print(nums1)\n"
   ]
  },
  {
   "cell_type": "code",
   "execution_count": 167,
   "metadata": {},
   "outputs": [
    {
     "name": "stdout",
     "output_type": "stream",
     "text": [
      "[1, 2, 2, 3, 5, 6]\n",
      "[1]\n",
      "[1, 3, 4, 5, 7, 10, 11, 12, 21]\n"
     ]
    }
   ],
   "source": [
    "merge([1, 2, 3, 0, 0, 0], 3, [2,5,6], 3)\n",
    "merge([0], 0, [1], 1)\n",
    "merge([1], 1, [], 0)\n",
    "merge([1, 5, 10, 12, 21, 0, 0, 0, 0], 5, [3, 4, 7, 11], 4)\n"
   ]
  },
  {
   "cell_type": "markdown",
   "metadata": {},
   "source": [
    "We wrote a $O(n+m)$ complexity algorithm that works as follows: \n",
    "\n",
    "1. Loop through the list ```nums1```, \n",
    "\n",
    "2. For each element ```num``` of ```nums1```, check if the first element ```nums2[0]``` of ```nums2``` is strictly smaller. If yes, save the pair ```[num2[0], index(num)]``` in a list ```ind_record```, and remove the leading element of ```nums2``` via ```nums2.pop(0)```. \n",
    "\n",
    "3. After the for loop is done, remove the zeros from the tail of ```nums1```: ```nums1 = nums1[:m]```. \n",
    "\n",
    "4. Then, add the remaining elements of ```nums2``` to the tail of ```nums1``` via a for loop: ```for num in nums2: nums1.append(num)```. \n",
    "\n",
    "5. Finally, read the list of registerd indices ```ind_record``` in reverse and place each of the recorded elements to the appropriate index via a for loop:  \n",
    "```for x in ind_record[::-1]: nums1.insert(x[1], x[0])```\n",
    "\n",
    "\n",
    "This is $O(n+m)$ because it loops once through ```nums1``` which is $O(m)$, and once through ```ind_record``` whih is at most $O(m)$. "
   ]
  },
  {
   "cell_type": "markdown",
   "metadata": {},
   "source": [
    "### **27. Remove elements**\n",
    "\n",
    "Given an integer array ```nums``` and an integer ```val```, remove all occurrences of ```val``` in ```nums``` in-place. The order of the elements may be changed. Then return *the number of elements* in ```nums``` which are not equal to ```val```.\n",
    "\n",
    "Consider the number of elements in ```nums``` which are not equal to ```val``` be ```k```, to get accepted, you need to do the following things:\n",
    "\n",
    "* Change the array ```nums``` such that the first ```k``` elements of ```nums``` contain the elements which are not equal to ```val```. The remaining elements of ```nums``` are not important as well as the size of nums.\n",
    "* Return ```k```.\n",
    "\n",
    "Custom Judge:\n",
    "\n",
    "The judge will test your solution with the following code:\n",
    "\n",
    "```\n",
    "int[] nums = [...]; // Input array\n",
    "int val = ...; // Value to remove\n",
    "int[] expectedNums = [...]; // The expected answer with correct length.\n",
    "                            // It is sorted with no values equaling val.\n",
    "\n",
    "int k = removeElement(nums, val); // Calls your implementation\n",
    "\n",
    "assert k == expectedNums.length;\n",
    "sort(nums, 0, k); // Sort the first k elements of nums\n",
    "for (int i = 0; i < actualLength; i++) {\n",
    "    assert nums[i] == expectedNums[i];\n",
    "}\n",
    "```\n",
    "If all assertions pass, then your solution will be **accepted**.\n",
    "\n",
    " \n",
    "\n",
    "**Example 1:**\n",
    "\n",
    "```\n",
    "Input: nums = [3,2,2,3], val = 3\n",
    "Output: 2, nums = [2,2,_,_]\n",
    "Explanation: Your function should return k = 2, with the first two elements of nums being 2.\n",
    "It does not matter what you leave beyond the returned k (hence they are underscores).\n",
    "```\n",
    "\n",
    "**Example 2:**\n",
    "\n",
    "```\n",
    "Input: nums = [0,1,2,2,3,0,4,2], val = 2\n",
    "Output: 5, nums = [0,1,4,0,3,_,_,_]\n",
    "Explanation: Your function should return k = 5, with the first five elements of nums containing 0, 0, 1, 3, and 4.\n",
    "Note that the five elements can be returned in any order.\n",
    "It does not matter what you leave beyond the returned k (hence they are underscores).\n",
    "```\n",
    " \n",
    "\n",
    "**Constraints:**\n",
    "\n",
    "* ```0 <= nums.length <= 100```\n",
    "* ```0 <= nums[i] <= 50```\n",
    "* ```0 <= val <= 100```"
   ]
  },
  {
   "cell_type": "markdown",
   "metadata": {},
   "source": [
    "#### **Solution**"
   ]
  },
  {
   "cell_type": "code",
   "execution_count": 6,
   "metadata": {},
   "outputs": [],
   "source": [
    "def removeElement(nums, val): \n",
    "    k = 0 \n",
    "    for i in range(len(nums)): \n",
    "        if nums[i] != val: \n",
    "            nums.insert(0, nums[i])\n",
    "            nums.pop(i+1) \n",
    "            k += 1\n",
    "        else: \n",
    "            nums.insert(i, '_')\n",
    "            nums.pop(i+1)\n",
    "    print(nums)\n",
    "    return k"
   ]
  },
  {
   "cell_type": "markdown",
   "metadata": {},
   "source": [
    "We wrote a simple algorithm of complexity $O(n)$ where ```n = len(nums)``` that loops through the list once: \n",
    "\n",
    "0. Initialize ```k=0```\n",
    "1. Loop through ```range(len(nums))```\n",
    "2. If the element ```nums[i]``` is not equal to ```val```; insert ```nums[0]``` first in the list and remove the ```i+1``` entry via ```nums.pop(i+1)```. Then, increase ```k``` by one, ```k += 1```. \n",
    "3. If ```nums[i] = val```, insert ```'_'``` in its place via ```nums.insert(i, '_')``` and remove the element via ```nums.pop(i+1)```. "
   ]
  }
 ],
 "metadata": {
  "kernelspec": {
   "display_name": "base",
   "language": "python",
   "name": "python3"
  },
  "language_info": {
   "codemirror_mode": {
    "name": "ipython",
    "version": 3
   },
   "file_extension": ".py",
   "mimetype": "text/x-python",
   "name": "python",
   "nbconvert_exporter": "python",
   "pygments_lexer": "ipython3",
   "version": "3.11.5"
  }
 },
 "nbformat": 4,
 "nbformat_minor": 2
}
