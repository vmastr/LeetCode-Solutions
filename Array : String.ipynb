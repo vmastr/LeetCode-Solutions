{
 "cells": [
  {
   "cell_type": "markdown",
   "metadata": {},
   "source": [
    "### **88. Merged Sorted Array**\n",
    "\n",
    "You are given two integer arrays ```nums1``` and ```nums2```, sorted in **non-decreasing order**, and two integers ```m``` and ```n```, representing the number of elements in ```nums1``` and ```nums2``` respectively. \n",
    "\n",
    "**Merge** ```nums1``` and ```nums2``` into a single array sorted in **non-decreasing order**. \n",
    "\n",
    "The final sorted array should not be returned by the function, but instead be *stored inside the array* ```nums1```. To accomodate this, ```nums1``` has a length ```m+n```, where the first ```m``` elements denote the elements that should be merged, and the last ```n``` elements are set to ```0``` and should be ignored. ```nums2``` has a length ```n```. \n",
    "\n",
    "\n",
    "\n",
    "**Example 1:** \n",
    "\n",
    "Input: ```nums1 = [1, 2, 3, 0, 0, 0], m = 3, nums2 = [2, 5, 6], n = 3```.    \n",
    "Output: ```[1, 2, 2, 3, 5, 6]```.  \n",
    "Explanation: ```The arrays we are merging here are [1, 2, 3] and [2, 5, 6]. The result of the merge is [1, 2, 2, 3, 5, 6] \n",
    "with the underlined elements coming from nums1```. \n",
    "\n",
    "\n",
    "**Example 2:** \n",
    "Input: ```nums1 = [1], m = 1, nums2 = [], n = 0```.    \n",
    "Output: ```[1]```.  \n",
    "Explanation: ```The arrays we are merging here are [1] and []. The result of the merge is [1]```. \n",
    "\n",
    "\n",
    "**Example 3:** \n",
    "Input: ```nums1 = [0], m = 0, nums2 = [1], n = 1```.    \n",
    "Output: ```[1]```.  \n",
    "Explanation: ```The arrays we are merging here are [] and [1]. The result of the merge is [1]. Note that because m = 0, there are no elements in nums1. The 0 is only there to ensure the merge result can fit in nums1.```. \n",
    "\n",
    "\n",
    "**Constraints**\n",
    "\n",
    "* ```nums1.length == m+n```\n",
    "* ```nums2.length == n```\n",
    "* ```0 <= m,  n <= 200```\n",
    "* ```1<= m + n <== 200```\n",
    "* ```-10^9 <= nums1[i], nums2[j] <= 10^9```"
   ]
  },
  {
   "cell_type": "markdown",
   "metadata": {},
   "source": [
    "#### **Solution**"
   ]
  },
  {
   "cell_type": "code",
   "execution_count": 166,
   "metadata": {},
   "outputs": [],
   "source": [
    "def merge(nums1, m, nums2, n):\n",
    "    if n == 0:\n",
    "        nums1 = nums2\n",
    "    else: \n",
    "        ind_record = []\n",
    "        for (i, num) in enumerate(nums1[:m]): \n",
    "            while len(nums2) > 0 and nums2[0] < num:\n",
    "                ind_record.append([nums2[0], i])\n",
    "                nums2.pop(0)\n",
    "        nums1 = nums1[:m]\n",
    "        for num in nums2: nums1.append(num)\n",
    "        for x in ind_record[::-1]: nums1.insert(x[1], x[0])\n",
    "        print(nums1)\n"
   ]
  },
  {
   "cell_type": "code",
   "execution_count": 167,
   "metadata": {},
   "outputs": [
    {
     "name": "stdout",
     "output_type": "stream",
     "text": [
      "[1, 2, 2, 3, 5, 6]\n",
      "[1]\n",
      "[1, 3, 4, 5, 7, 10, 11, 12, 21]\n"
     ]
    }
   ],
   "source": [
    "merge([1, 2, 3, 0, 0, 0], 3, [2,5,6], 3)\n",
    "merge([0], 0, [1], 1)\n",
    "merge([1], 1, [], 0)\n",
    "merge([1, 5, 10, 12, 21, 0, 0, 0, 0], 5, [3, 4, 7, 11], 4)\n"
   ]
  },
  {
   "cell_type": "markdown",
   "metadata": {},
   "source": [
    "We wrote a $O(n+m)$ complexity algorithm that works as follows: \n",
    "\n",
    "1. Loop through the list ```nums1```, \n",
    "\n",
    "2. For each element ```num``` of ```nums1```, check if the first element ```nums2[0]``` of ```nums2``` is strictly smaller. If yes, save the pair ```[num2[0], index(num)]``` in a list ```ind_record```, and remove the leading element of ```nums2``` via ```nums2.pop(0)```. \n",
    "\n",
    "3. After the for loop is done, remove the zeros from the tail of ```nums1```: ```nums1 = nums1[:m]```. \n",
    "\n",
    "4. Then, add the remaining elements of ```nums2``` to the tail of ```nums1``` via a for loop: ```for num in nums2: nums1.append(num)```. \n",
    "\n",
    "5. Finally, read the list of registerd indices ```ind_record``` in reverse and place each of the recorded elements to the appropriate index via a for loop:  \n",
    "```for x in ind_record[::-1]: nums1.insert(x[1], x[0])```\n",
    "\n",
    "\n",
    "This is $O(n+m)$ because it loops once through ```nums1``` which is $O(m)$, and once through ```ind_record``` whih is at most $O(m)$. "
   ]
  },
  {
   "cell_type": "markdown",
   "metadata": {},
   "source": [
    "### **27. Remove elements**\n",
    "\n",
    "Given an integer array ```nums``` and an integer ```val```, remove all occurrences of ```val``` in ```nums``` in-place. The order of the elements may be changed. Then return *the number of elements* in ```nums``` which are not equal to ```val```.\n",
    "\n",
    "Consider the number of elements in ```nums``` which are not equal to ```val``` be ```k```, to get accepted, you need to do the following things:\n",
    "\n",
    "* Change the array ```nums``` such that the first ```k``` elements of ```nums``` contain the elements which are not equal to ```val```. The remaining elements of ```nums``` are not important as well as the size of nums.\n",
    "* Return ```k```.\n",
    "\n",
    "Custom Judge:\n",
    "\n",
    "The judge will test your solution with the following code:\n",
    "\n",
    "```\n",
    "int[] nums = [...]; // Input array\n",
    "int val = ...; // Value to remove\n",
    "int[] expectedNums = [...]; // The expected answer with correct length.\n",
    "                            // It is sorted with no values equaling val.\n",
    "\n",
    "int k = removeElement(nums, val); // Calls your implementation\n",
    "\n",
    "assert k == expectedNums.length;\n",
    "sort(nums, 0, k); // Sort the first k elements of nums\n",
    "for (int i = 0; i < actualLength; i++) {\n",
    "    assert nums[i] == expectedNums[i];\n",
    "}\n",
    "```\n",
    "If all assertions pass, then your solution will be **accepted**.\n",
    "\n",
    " \n",
    "\n",
    "**Example 1:**\n",
    "\n",
    "```\n",
    "Input: nums = [3,2,2,3], val = 3\n",
    "Output: 2, nums = [2,2,_,_]\n",
    "Explanation: Your function should return k = 2, with the first two elements of nums being 2.\n",
    "It does not matter what you leave beyond the returned k (hence they are underscores).\n",
    "```\n",
    "\n",
    "**Example 2:**\n",
    "\n",
    "```\n",
    "Input: nums = [0,1,2,2,3,0,4,2], val = 2\n",
    "Output: 5, nums = [0,1,4,0,3,_,_,_]\n",
    "Explanation: Your function should return k = 5, with the first five elements of nums containing 0, 0, 1, 3, and 4.\n",
    "Note that the five elements can be returned in any order.\n",
    "It does not matter what you leave beyond the returned k (hence they are underscores).\n",
    "```\n",
    " \n",
    "\n",
    "**Constraints:**\n",
    "\n",
    "* ```0 <= nums.length <= 100```\n",
    "* ```0 <= nums[i] <= 50```\n",
    "* ```0 <= val <= 100```"
   ]
  },
  {
   "cell_type": "markdown",
   "metadata": {},
   "source": [
    "#### **Solution**"
   ]
  },
  {
   "cell_type": "code",
   "execution_count": 6,
   "metadata": {},
   "outputs": [],
   "source": [
    "def removeElement(nums, val): \n",
    "    k = 0 \n",
    "    for i in range(len(nums)): \n",
    "        if nums[i] != val: \n",
    "            nums.insert(0, nums[i])\n",
    "            nums.pop(i+1) \n",
    "            k += 1\n",
    "        else: \n",
    "            nums.insert(i, '_')\n",
    "            nums.pop(i+1)\n",
    "    print(nums)\n",
    "    return k"
   ]
  },
  {
   "cell_type": "markdown",
   "metadata": {},
   "source": [
    "We wrote a simple algorithm of complexity $O(n)$ where ```n = len(nums)``` that loops through the list once: \n",
    "\n",
    "0. Initialize ```k=0```\n",
    "1. Loop through ```range(len(nums))```\n",
    "2. If the element ```nums[i]``` is not equal to ```val```; insert ```nums[0]``` first in the list and remove the ```i+1``` entry via ```nums.pop(i+1)```. Then, increase ```k``` by one, ```k += 1```. \n",
    "3. If ```nums[i] = val```, insert ```'_'``` in its place via ```nums.insert(i, '_')``` and remove the element via ```nums.pop(i+1)```. "
   ]
  },
  {
   "cell_type": "markdown",
   "metadata": {},
   "source": [
    "### **26. Remove Duplicates from Sorted Array**\n",
    "\n",
    "Given an integer array ```nums``` sorted in **non-decreasing order**, remove the duplicates in-place such that each unique element appears only **once**. The **relative order** of the elements should be kept the **same**. Then return the *number of unique elements* in ```nums```.\n",
    "\n",
    "Consider the number of unique elements of ```nums``` to be ```k```, to get accepted, you need to do the following things:\n",
    "\n",
    "* Change the array ```nums``` such that the first ```k``` elements of ```nums``` contain the unique elements in the order they were present in ```nums``` initially. The remaining elements of ```nums``` are not important as well as the size of ```nums```.  \n",
    "\n",
    "* Return ```k```.\n",
    "\n",
    "\n",
    "**Custom Judge:**\n",
    "\n",
    "The judge will test your solution with the following code:\n",
    "\n",
    "```\n",
    "int[] nums = [...]; // Input array\n",
    "int[] expectedNums = [...]; // The expected answer with correct length\n",
    "\n",
    "int k = removeDuplicates(nums); // Calls your implementation\n",
    "\n",
    "assert k == expectedNums.length;\n",
    "for (int i = 0; i < k; i++) {\n",
    "    assert nums[i] == expectedNums[i];\n",
    "}\n",
    "```\n",
    "\n",
    "If all assertions pass, then your solution will be **accepted**.\n",
    " \n",
    "\n",
    "**Example 1:**\n",
    "\n",
    "```\n",
    "Input: nums = [1,1,2]\n",
    "Output: 2, nums = [1,2,_]\n",
    "Explanation: Your function should return k = 2, with the first two elements of nums being 1 and 2 respectively.\n",
    "It does not matter what you leave beyond the returned k (hence they are underscores).\n",
    "```\n",
    "\n",
    "**Example 2:**\n",
    "\n",
    "```\n",
    "Input: nums = [0,0,1,1,1,2,2,3,3,4]\n",
    "Output: 5, nums = [0,1,2,3,4,_,_,_,_,_]\n",
    "Explanation: Your function should return k = 5, with the first five elements of nums being 0, 1, 2, 3, and 4 respectively.\n",
    "It does not matter what you leave beyond the returned k (hence they are underscores).\n",
    "```\n",
    "\n",
    "**Constraints:**\n",
    "\n",
    "* ```1 <= nums.length <= 3 * 104```\n",
    "* ```-100 <= nums[i] <= 100```\n",
    "* ```nums``` is sorted in **non-decreasing** order."
   ]
  },
  {
   "cell_type": "markdown",
   "metadata": {},
   "source": [
    "#### **Solution***"
   ]
  },
  {
   "cell_type": "code",
   "execution_count": 18,
   "metadata": {},
   "outputs": [],
   "source": [
    "def removeDuplicates(nums):\n",
    "    k = len(nums)\n",
    "    for (i,num) in enumerate(nums[::-1]): \n",
    "        if k-i-1>0 and nums[k-1-i] == nums[k-1- (i+1)]: \n",
    "            nums.pop(k-i-1)\n",
    "    print(nums)\n",
    "    return len(nums)"
   ]
  },
  {
   "cell_type": "code",
   "execution_count": 21,
   "metadata": {},
   "outputs": [
    {
     "name": "stdout",
     "output_type": "stream",
     "text": [
      "[0, 1, 2, 3, 4]\n"
     ]
    },
    {
     "data": {
      "text/plain": [
       "5"
      ]
     },
     "execution_count": 21,
     "metadata": {},
     "output_type": "execute_result"
    }
   ],
   "source": [
    "nums = [0, 0, 1, 1, 1, 2, 2, 3, 3, 4]\n",
    "removeDuplicates(nums)"
   ]
  },
  {
   "cell_type": "markdown",
   "metadata": {},
   "source": [
    "We write a simple solution that loops through ```nums``` once: \n",
    "\n",
    "1. Fix ```k=len(nums)``` the initial lenght of the list. \n",
    "2. Loop through the list in reverse: ```for (i,num) in enumerate(nums[::-1]):```\n",
    "3. As ```enumerate``` runs through ```nums[::-1]``` with the index starting at 0, we invert it by replacing `i` with `k-i-1`\n",
    "4. If ``k-i-1>0` and `nums[k-1-i]==nums[k-1-(i+1)]`: remove the `i`-th element; `nums.pop(k-i-1)`\n",
    "5. `return len(nums)`"
   ]
  },
  {
   "cell_type": "markdown",
   "metadata": {},
   "source": [
    "### 80. Remove Duplicates from Sorted Array II\n",
    "\n",
    "Given an integer array `nums` sorted in **non-decreasing order**, remove some duplicates in place such that each unique element appears **at most twice**. The **relative order** of elements should be kept the **same**. \n",
    "\n",
    "Since it is impossible to change the length of the array in some languages, you must instead have the result be placed in the **first part** of the array `nums`. More formally, if there are `k` elements after removing the duplicates, then the first `k` elements of `nums` should hold the final result. It does not matter what you leave beyond the first `k` elements. \n",
    "\n",
    "Return `k` *after placing the final result in the first* `k` *slots of* `nums`. \n",
    "\n",
    "Do **not** allocate extra space for another array. You must do this by **modifying the input array in-place** with O(1) extra memory. \n",
    "\n",
    "**Custom Judge:**\n",
    "\n",
    "The judge will test your solution with the following code:\n",
    "\n",
    "```\n",
    "int[] nums = [...]; // Input array\n",
    "int[] expectedNums = [...]; // The expected answer with correct length\n",
    "\n",
    "int k = removeDuplicates(nums); // Calls your implementation\n",
    "\n",
    "assert k == expectedNums.length;\n",
    "for (int i = 0; i < k; i++) {\n",
    "    assert nums[i] == expectedNums[i];\n",
    "}\n",
    "```\n",
    "\n",
    "If all assertions pass, then your solution will be **accepted**.\n",
    "\n",
    "**Example 1:**\n",
    "\n",
    "```\n",
    "Input: nums = [1,1,1,2,2,3]\n",
    "Output: 5, nums = [1,1,2,2,3,_]\n",
    "Explanation: Your function should return k = 5, with the first five elements of nums being 1, 1, 2, 2 and 3 respectively.\n",
    "It does not matter what you leave beyond the returned k (hence they are underscores).\n",
    "```\n",
    "\n",
    "**Example 2:**\n",
    "\n",
    "Input: nums = [0,0,1,1,1,1,2,3,3]\n",
    "Output: 7, nums = [0,0,1,1,2,3,3,_,_]\n",
    "Explanation: Your function should return k = 7, with the first seven elements of nums being 0, 0, 1, 1, 2, 3 and 3 respectively.\n",
    "It does not matter what you leave beyond the returned k (hence they are underscores).\n",
    "\n",
    "\n",
    "**Constraints:**\n",
    "\n",
    "* `1 <= nums.length <= 3 * 104`\n",
    "* `-104 <= nums[i] <= 104`\n",
    "* `nums` is sorted in **non-decreasing** order."
   ]
  },
  {
   "cell_type": "markdown",
   "metadata": {},
   "source": [
    "**Solution**"
   ]
  },
  {
   "cell_type": "code",
   "execution_count": 46,
   "metadata": {},
   "outputs": [],
   "source": [
    "def removeDuplicates(nums):\n",
    "    j = 1\n",
    "    for i in range(1, len(nums)):\n",
    "        if j == 1 or nums[i] != nums[j-2]:\n",
    "            nums[j] = nums[i]\n",
    "            j += 1\n",
    "    print(nums)\n",
    "    return j\n"
   ]
  },
  {
   "cell_type": "markdown",
   "metadata": {},
   "source": [
    "We write a simple two-pointer algorithm. The first pointer `i` loops through the list once, while the second pointer `j` reassigns values when needed. \n",
    "\n",
    "1. Initiallize `j=1`\n",
    "2. Start a `for` loop from 1 to the last element of `nums`: `for i in range(1, len(nums))` \n",
    "3. If `i==1` then `nums[j]=nums[1]`\n",
    "4. If `nums[i] != nums[j-2]` then `nums[j]=nums[i]`\n",
    "5. `j +=1 `\n",
    "6. `return j`\n",
    "\n",
    "It is important that in step 4 we check for `nums[i] = nums[j-2]` and not `nums[i] == nums[i-2]`. To see why, we illustrate with an example. Start with `nums = [1, 1, 1, 2, 2, 3]`. The loop starts at `i=1` when `j=1` for which we set `nums[j] = nums[i]` and `j=2`, so `nums` remains unchanged. In the next step, `i=2`, `nums[i]==1` and `nums[j-2]==nums[0]==1` so `j` remains unchanged equal to 2. In the next step, `i=3` for which `nums[3] == 2` is not equal to `nums[j] = 1`, hence set `nums[2]=2` and `j=3`. At this point, `nums == [1, 1, 2, 2, 2, 3]`. The next step is **crucial**. In this step, `i==4` and `j==3`. In addition, `nums[i]==2`, `nums[j]==2` but `nums[i-2]==2`! Meaning that if we were checking for `nums[i]==nums[i-2]` the program would not change the 2 here, and would leave `j=3`. However, `nums[j-2]=1`, since `nums[i] != nums[j-2]`, set `nums[j] = nums [i] = 2` and `j=4`. This gives `nums == [1, 1, 2, 2, 2, 3]` which is not what we want but now `j=4` which is very crucial for the last step. In the last step, `i==5`, `nums[i]==3` which is not equal to `nums[j-2] == 2`, hence set `nums[j] = nums[i] = 3` and `j=5`. This results in `nums = [1, 1, 2, 2, 3, 3]`. "
   ]
  },
  {
   "cell_type": "code",
   "execution_count": 47,
   "metadata": {},
   "outputs": [
    {
     "name": "stdout",
     "output_type": "stream",
     "text": [
      "[1, 1, 2, 2, 3, 3]\n"
     ]
    },
    {
     "data": {
      "text/plain": [
       "5"
      ]
     },
     "execution_count": 47,
     "metadata": {},
     "output_type": "execute_result"
    }
   ],
   "source": [
    "removeDuplicates([1, 1, 1, 2, 2, 3])"
   ]
  },
  {
   "cell_type": "markdown",
   "metadata": {},
   "source": []
  }
 ],
 "metadata": {
  "kernelspec": {
   "display_name": "base",
   "language": "python",
   "name": "python3"
  },
  "language_info": {
   "codemirror_mode": {
    "name": "ipython",
    "version": 3
   },
   "file_extension": ".py",
   "mimetype": "text/x-python",
   "name": "python",
   "nbconvert_exporter": "python",
   "pygments_lexer": "ipython3",
   "version": "3.11.5"
  }
 },
 "nbformat": 4,
 "nbformat_minor": 2
}
